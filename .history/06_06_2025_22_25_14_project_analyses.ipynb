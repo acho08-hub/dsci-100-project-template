{
 "cells": [
  {
   "cell_type": "code",
   "execution_count": null,
   "id": "473ae400-c11a-4b5c-8011-637f960e8c22",
   "metadata": {},
   "outputs": [],
   "source": [
    "library (tidyverse)\n",
    "library (tidymodels) \n",
    "library(repr)\n",
    "options(repr.matrix.max.rows = 6)\n",
    "source(\"cleanup.R\")"
   ]
  },
  {
   "cell_type": "code",
   "execution_count": null,
   "id": "7f6adce3-6c48-4004-baa6-fcce33c68fe0",
   "metadata": {},
   "outputs": [],
   "source": [
    "players <- read_csv (\"players.csv\") \n",
    "players \n",
    "sessions <- read_csv (\"sessions.csv\")\n",
    "sessions"
   ]
  },
  {
   "cell_type": "code",
   "execution_count": null,
   "id": "375ba764-7764-4a31-8ec0-8aed81d1b65f",
   "metadata": {},
   "outputs": [],
   "source": [
    "players_data <- players |> \n",
    "    mutate (experience = as_factor (experience) , gender = as_factor (gender) )\n",
    "players_data"
   ]
  },
  {
   "cell_type": "code",
   "execution_count": null,
   "id": "d6696797-c0d3-49e5-a03d-dc74d2adc341",
   "metadata": {},
   "outputs": [],
   "source": [
    "most_played_group <- players |> \n",
    "    group_by ( experience ) |> \n",
    "    summarise ( avg_played_hours = mean (played_hours) ) \n",
    "most_played_group\n",
    "#Regular players played the most "
   ]
  },
  {
   "cell_type": "code",
   "execution_count": null,
   "id": "23c876a4-cccd-4de7-add4-ae475f10a4d8",
   "metadata": {},
   "outputs": [],
   "source": [
    "numbers_group <- players |> \n",
    "    group_by (experience) |> \n",
    "    summarise (count = n() ) \n",
    "numbers_group\n",
    "#Imbalance in the types of players "
   ]
  },
  {
   "cell_type": "code",
   "execution_count": null,
   "id": "a8814884-1a7b-4c5d-a47b-0160cedd37f5",
   "metadata": {},
   "outputs": [],
   "source": [
    "subscription_by_group_pct <- players |> \n",
    "    group_by (experience, subscribe) |> \n",
    "    summarise (count = n() ) \n",
    "subscription_by_group_pct"
   ]
  },
  {
   "cell_type": "code",
   "execution_count": null,
   "id": "2b93e3e6-67d2-4444-8c32-16385d17f5df",
   "metadata": {},
   "outputs": [],
   "source": [
    "subscription_pct <- players |> \n",
    "    group_by (subscribe) |> \n",
    "    summarise (count = n() ) \n",
    "subscription_pct"
   ]
  },
  {
   "cell_type": "code",
   "execution_count": null,
   "id": "b6b2d53a-2bc9-4816-b3d1-5d8def2a6903",
   "metadata": {},
   "outputs": [],
   "source": []
  }
 ],
 "metadata": {
  "kernelspec": {
   "display_name": "R",
   "language": "R",
   "name": "ir"
  },
  "language_info": {
   "codemirror_mode": "r",
   "file_extension": ".r",
   "mimetype": "text/x-r-source",
   "name": "R",
   "pygments_lexer": "r",
   "version": "4.3.3"
  }
 },
 "nbformat": 4,
 "nbformat_minor": 5
}
